{
 "cells": [
  {
   "cell_type": "code",
   "execution_count": 7,
   "metadata": {},
   "outputs": [
    {
     "name": "stdout",
     "output_type": "stream",
     "text": [
      "2.1.0\n"
     ]
    }
   ],
   "source": [
    "#install required packages\n",
    "import os\n",
    "import torch\n",
    "os.environ['TORCH'] = torch.__version__\n",
    "print(torch.__version__)\n",
    "\n",
    "# Helper function for visualization.\n",
    "%matplotlib inline\n",
    "import networkx as nx\n",
    "import matplotlib.pyplot as plt"
   ]
  },
  {
   "cell_type": "code",
   "execution_count": 8,
   "metadata": {},
   "outputs": [],
   "source": [
    "def visualize_graph(G, color):\n",
    "    plt.figure(figsize=(7,7))\n",
    "    plt.xticks([])\n",
    "    plt.yticks([])\n",
    "    nx.draw_networkx(G, pos=nx.spring_layout(G, seed=42), with_labels=False,)\n",
    "    plt.show()"
   ]
  },
  {
   "cell_type": "code",
   "execution_count": 9,
   "metadata": {},
   "outputs": [
    {
     "name": "stdout",
     "output_type": "stream",
     "text": [
      "Data(x=[6, 4], edge_index=[2, 5], y=[6, 4])\n",
      "==============================================================\n",
      "Number of nodes: 6\n",
      "Number of edges: 5\n",
      "Average node degree: 0.83\n"
     ]
    }
   ],
   "source": [
    "dir = '/mnt/data1/karres/cosmics_test/feature_store_cosmic/'\n",
    "data = torch.load(dir+'trainset/graphs/event000000053-graph.pyg')\n",
    "\n",
    "print(data)\n",
    "print('==============================================================')\n",
    "\n",
    "# Gather some statistics about the graph.\n",
    "print(f'Number of nodes: {data.num_nodes}')\n",
    "print(f'Number of edges: {data.num_edges}')\n",
    "print(f'Average node degree: {data.num_edges / data.num_nodes:.2f}')\n",
    "#print(f'Has isolated nodes: {data.has_isolated_nodes()}')\n",
    "#print(f'Has self-loops: {data.has_self_loops()}')\n",
    "#print(f'Is undirected: {data.is_undirected()}')"
   ]
  },
  {
   "cell_type": "code",
   "execution_count": 10,
   "metadata": {},
   "outputs": [
    {
     "name": "stdout",
     "output_type": "stream",
     "text": [
      "particle_id  layer  station\n",
      "1            3      0          [0, 7]\n",
      "             2      0          [1, 6]\n",
      "             1      0          [2, 5]\n",
      "             0      0          [3, 4]\n",
      "3            3      -1         [8, 9]\n",
      "Name: index, dtype: object\n",
      "===================\n",
      "particle_id\n",
      "1    [[0, 7], [1, 6], [2, 5], [3, 4]]\n",
      "3                            [[8, 9]]\n",
      "Name: index, dtype: object\n",
      "===================\n",
      "particle_id\n",
      "1    [[0, 7], [1, 6], [2, 5], [3, 4]]\n",
      "3                            [[8, 9]]\n",
      "Name: index, dtype: object\n",
      "===================\n",
      "[list([[0, 7], [1, 6], [2, 5], [3, 4]]) list([[8, 9]])]\n",
      "[]\n",
      "[]\n",
      "===================\n",
      "[(0, 1), (0, 6), (7, 1), (7, 6), (1, 2), (1, 5), (6, 2), (6, 5), (2, 3), (2, 4), (5, 3), (5, 4)]\n"
     ]
    }
   ],
   "source": [
    "import pandas as pd\n",
    "\n",
    "# Sample data\n",
    "data = {\n",
    "    'particle_id': [1, 1, 1, 1, 1, 1, 1, 1, 3, 3],\n",
    "    'layer': ['3', '2', '1', '0', '0', '1', '2', '3', '3', '3'],\n",
    "    'station': ['0', '0', '0', '0', '0', '0', '0', '0', '-1', '-1'],\n",
    "    'index': [0, 1, 2, 3, 4, 5, 6, 7, 8, 9],\n",
    "    'other stuff': ['a', 'b', 'c', 'd', 'e', 'f', 'g', 'h', 'i', 'j']\n",
    "}\n",
    "\n",
    "signal = pd.DataFrame(data)\n",
    "module_columns = ['layer', 'station']\n",
    "\n",
    "# Grouping and aggregating\n",
    "grouped = signal.groupby(['particle_id'] + module_columns, sort=False)['index'].agg(lambda x: list(x))\n",
    "print(grouped)\n",
    "print('===================')\n",
    "\n",
    "\n",
    "grouped_again = grouped.groupby(level=0).agg(lambda x: list(x))\n",
    "print(grouped_again)\n",
    "print('===================')\n",
    "\n",
    "signal_index_list = (grouped_again)\n",
    "print(signal_index_list)\n",
    "print('===================')\n",
    "\n",
    "print(signal_index_list.values)\n",
    "\n",
    "row = signal_index_list.values[1]\n",
    "print(row[:-1])\n",
    "print(row[1:])\n",
    "print('===================')\n",
    "\n",
    "from itertools import product\n",
    "track_index_edges = []\n",
    "for row in signal_index_list.values:\n",
    "        \n",
    "        for i, j in zip(row[:-1], row[1:]):\n",
    "            track_index_edges.extend(list(product(i, j)))   \n",
    "\n",
    "print(track_index_edges)"
   ]
  },
  {
   "cell_type": "code",
   "execution_count": 11,
   "metadata": {},
   "outputs": [],
   "source": [
    "import pandas as pd\n",
    "import numpy as np\n",
    "from itertools import product\n",
    "import torch\n",
    "from torch_geometric.data import Data\n",
    "\n",
    "dir = '/mnt/data1/karres/cosmics_test/feature_store_cosmic/'\n",
    "example_event = pd.read_csv(dir+'trainset/csv/event000000002-truth.csv')\n",
    "\n",
    "def process_hits(hits):\n",
    "        #Rename tid and layer\n",
    "        hits = hits.rename(columns={'tid': 'particle_id'})\n",
    "        hits = hits.rename(columns={'layer': 'layer_id'})\n",
    "\n",
    "        # Calculate the pT of the particle\n",
    "        hits['pt'] = np.sqrt(hits[\"px\"] ** 2 + hits[\"py\"] ** 2)\n",
    "\n",
    "        # Calculate the radius of the particle\n",
    "        hits['radius'] = np.sqrt(hits[\"vx\"] ** 2 + hits[\"vy\"] ** 2)\n",
    "\n",
    "        #Assign nhits\n",
    "        hits['nhits'] = len(hits['x'])\n",
    "\n",
    "        # Assign hit_ids\n",
    "        hits['hit_id'] = list(range(1,len(hits['x'])+1))\n",
    "\n",
    "        #Assign station_id: -1 for upstream recoil, 0 for central and +1 for downstream recurl station\n",
    "        conditions = [(hits['z'] < -200), (hits['z'] < 200), (hits['z'] >= 200)]\n",
    "        ids = [-1, 0, 1]\n",
    "        hits['station_id'] = np.select(conditions, ids)\n",
    "\n",
    "        #Assign ladder_id:\n",
    "        hits['ladder_id'] = list(range(1,len(hits['x'])+1))\n",
    "    \n",
    "        return hits\n",
    "\n",
    "def remap_edges(track_edges, track_features, hits):\n",
    "        \"\"\"\n",
    "        Here we do two things:\n",
    "        1. Remove duplicate hits from the hit list (since a hit is a node and therefore only exists once), and remap the corresponding truth track edge indices\n",
    "        2. Remove duplicate truth track edges. This is a SMALL simplification for conceptual simplicity,\n",
    "        but we apply a test to ensure the simplification does not throw away too many duplicate edges.\n",
    "        \"\"\"\n",
    "\n",
    "        unique_hid = np.unique(hits.hit_id)\n",
    "        hid_mapping = np.zeros(unique_hid.max() + 1).astype(int)\n",
    "        hid_mapping[unique_hid] = np.arange(len(unique_hid))\n",
    "\n",
    "        hits = hits.drop_duplicates(subset=\"hit_id\").sort_values(\"hit_id\")\n",
    "\n",
    "        track_edges = hid_mapping[track_edges]\n",
    "\n",
    "        # Remove duplicate edges\n",
    "        unique_track_edges, unique_track_edge_indices = np.unique(\n",
    "            track_edges, axis=1, return_index=True\n",
    "        )\n",
    "        track_features = {\n",
    "            k: v[unique_track_edge_indices] for k, v in track_features.items()\n",
    "        }\n",
    "\n",
    "        # This test imposes a limit to how we simplify the graph: We don't allow shared EDGES (i.e. two different particles can share a hit, but not an edge between the same two hits). We want to ensure these are in a tiny minority\n",
    "        n_shared_edges = track_edges.shape[1] - unique_track_edges.shape[1]\n",
    "        assert n_shared_edges < 50, \"The number of shared EDGES is unusually high!\"\n",
    "\n",
    "        return unique_track_edges, track_features, hits\n",
    "\n",
    "def build_graph(self, hits, tracks, track_features, event_id):\n",
    "        \"\"\"\n",
    "        Builds a PyG data object from the hits, particles and tracks.\n",
    "        \"\"\"\n",
    "\n",
    "        graph = Data()\n",
    "        for feature in set(self.config[\"feature_sets\"][\"hit_features\"]).intersection(\n",
    "            set(hits.columns)\n",
    "        ):\n",
    "            graph[feature] = torch.from_numpy(hits[feature].values)\n",
    "\n",
    "        graph.track_edges = torch.from_numpy(tracks)\n",
    "        for feature in set(self.config[\"feature_sets\"][\"track_features\"]).intersection(\n",
    "            set(track_features.keys())\n",
    "        ):\n",
    "            graph[feature] = torch.from_numpy(track_features[feature])\n",
    "\n",
    "        # Add config dictionary to the graph object, so every data has a record of how it was built\n",
    "        graph.config = [self.config]\n",
    "        graph.event_id = str(event_id)\n",
    "\n",
    "        return graph"
   ]
  },
  {
   "cell_type": "code",
   "execution_count": 12,
   "metadata": {},
   "outputs": [
    {
     "name": "stdout",
     "output_type": "stream",
     "text": [
      "=====Raw hit data=====\n",
      "   event  layer  ladder  module  station          x          y           z  \\\n",
      "0      2      2       2       0        2 -50.322186  52.171955  354.160004   \n",
      "1      2      2       4       1        2 -68.043694  23.938395  346.179993   \n",
      "2      2      3       1       0        2 -33.974640  78.191750  361.470001   \n",
      "3      2      3       7       1        2 -85.161835  -3.560488  338.470001   \n",
      "\n",
      "            px           py          pz          vx          vy         vz  \\\n",
      "0 -2334.052246 -3342.965576 -956.682495  452.045044  798.244934  567.13269   \n",
      "1 -2334.052246 -3342.965576 -956.682495  452.045044  798.244934  567.13269   \n",
      "2 -2334.052246 -3342.965576 -956.682495  452.045044  798.244934  567.13269   \n",
      "3 -2334.052246 -3342.965576 -956.682495  452.045044  798.244934  567.13269   \n",
      "\n",
      "   pid    tid  mid  \n",
      "0  -13  41880    0  \n",
      "1  -13  41880    0  \n",
      "2  -13  41880    0  \n",
      "3  -13  41880    0  \n",
      "==========================\n",
      "=====Hit data after process_hits=====\n",
      "   event  layer_id  ladder  module  station          x          y           z  \\\n",
      "0      2         2       2       0        2 -50.322186  52.171955  354.160004   \n",
      "1      2         2       4       1        2 -68.043694  23.938395  346.179993   \n",
      "2      2         3       1       0        2 -33.974640  78.191750  361.470001   \n",
      "3      2         3       7       1        2 -85.161835  -3.560488  338.470001   \n",
      "\n",
      "            px           py  ...         vz  pid  particle_id  mid  \\\n",
      "0 -2334.052246 -3342.965576  ...  567.13269  -13        41880    0   \n",
      "1 -2334.052246 -3342.965576  ...  567.13269  -13        41880    0   \n",
      "2 -2334.052246 -3342.965576  ...  567.13269  -13        41880    0   \n",
      "3 -2334.052246 -3342.965576  ...  567.13269  -13        41880    0   \n",
      "\n",
      "            pt      radius  nhits  hit_id  station_id  ladder_id  \n",
      "0  4077.158168  917.354728      4       1           1          1  \n",
      "1  4077.158168  917.354728      4       2           1          2  \n",
      "2  4077.158168  917.354728      4       3           1          3  \n",
      "3  4077.158168  917.354728      4       4           1          4  \n",
      "\n",
      "[4 rows x 23 columns]\n",
      "================\n",
      "\n",
      "=====Hit data after sorting by R=====\n",
      "   index  event  layer_id  ladder  module  station          x          y  \\\n",
      "0      2      2         3       1       0        2 -33.974640  78.191750   \n",
      "1      0      2         2       2       0        2 -50.322186  52.171955   \n",
      "2      1      2         2       4       1        2 -68.043694  23.938395   \n",
      "3      3      2         3       7       1        2 -85.161835  -3.560488   \n",
      "\n",
      "            z           px  ...  pid  particle_id  mid           pt  \\\n",
      "0  361.470001 -2334.052246  ...  -13        41880    0  4077.158168   \n",
      "1  354.160004 -2334.052246  ...  -13        41880    0  4077.158168   \n",
      "2  346.179993 -2334.052246  ...  -13        41880    0  4077.158168   \n",
      "3  338.470001 -2334.052246  ...  -13        41880    0  4077.158168   \n",
      "\n",
      "       radius  nhits  hit_id  station_id  ladder_id           R  \n",
      "0  917.354728      4       3           1          3  892.742328  \n",
      "1  917.354728      4       1           1          1  924.313306  \n",
      "2  917.354728      4       2           1          2  958.573423  \n",
      "3  917.354728      4       4           1          4  991.851698  \n",
      "\n",
      "[4 rows x 25 columns]\n",
      "===================\n"
     ]
    }
   ],
   "source": [
    "print('=====Raw hit data=====')\n",
    "print(example_event)\n",
    "print('==========================')\n",
    "\n",
    "hits = process_hits(example_event)\n",
    "\n",
    "print('=====Hit data after process_hits=====')\n",
    "print(hits)\n",
    "print('================')\n",
    "\n",
    "hits = hits.assign(\n",
    "            R=np.sqrt(\n",
    "                (hits.x - hits.vx) ** 2\n",
    "                + (hits.y - hits.vy) ** 2\n",
    "                + (hits.z - hits.vz) ** 2\n",
    "            )\n",
    "        )\n",
    "\n",
    "signal = hits[(hits.particle_id != 0)]\n",
    "signal = signal.sort_values(\"R\").reset_index(drop=False)\n",
    "\n",
    "print()\n",
    "print('=====Hit data after sorting by R=====')\n",
    "print(signal)\n",
    "print('===================')"
   ]
  },
  {
   "cell_type": "code",
   "execution_count": 13,
   "metadata": {},
   "outputs": [
    {
     "name": "stdout",
     "output_type": "stream",
     "text": [
      "=====signal_index_list after grouping and aggregating=====\n",
      "particle_id\n",
      "41880    [[2], [0], [1], [3]]\n",
      "Name: index, dtype: object\n",
      "==================\n",
      "\n",
      "=====track_index_edges=====\n",
      "[(2, 0), (0, 1), (1, 3)]\n",
      "[[2 0 1]\n",
      " [0 1 3]]\n",
      "===============\n",
      "\n",
      "=====Track features======\n",
      "{'radius': array([917.35472776, 917.35472776, 917.35472776]), 'pt': array([4077.1581685, 4077.1581685, 4077.1581685]), 'nhits': array([4, 4, 4]), 'particle_id': array([41880, 41880, 41880])}\n",
      "===================\n"
     ]
    },
    {
     "data": {
      "text/plain": [
       "\"\\ntrack_edges, track_features, hits = remap_edges(track_edges, track_features, hits)\\n\\nprint()\\nprint('=====Track edges (remapped)=====')\\nprint(track_edges)\\nprint('=======================')\\n\""
      ]
     },
     "execution_count": 13,
     "metadata": {},
     "output_type": "execute_result"
    }
   ],
   "source": [
    "module_columns = ['layer_id', 'station_id', 'ladder_id']\n",
    "\n",
    "signal_index_list = (\n",
    "            signal.groupby(\n",
    "                [\"particle_id\"] + module_columns,\n",
    "                sort=False,\n",
    "            )[\"index\"]\n",
    "            .agg(lambda x: list(x))\n",
    "            .groupby(level=0)\n",
    "            .agg(lambda x: list(x))\n",
    "        )\n",
    "print('=====signal_index_list after grouping and aggregating=====')\n",
    "print(signal_index_list)\n",
    "print('==================')\n",
    "\n",
    "track_index_edges = []\n",
    "for row in signal_index_list.values:\n",
    "    for i, j in zip(row[:-1], row[1:]):\n",
    "        track_index_edges.extend(list(product(i, j)))\n",
    "\n",
    "print()\n",
    "print('=====track_index_edges=====')\n",
    "print(track_index_edges)\n",
    "print(np.array(track_index_edges).T)\n",
    "print('===============')\n",
    "\n",
    "track_index_edges = np.array(track_index_edges).T\n",
    "\n",
    "'''\n",
    "track_edges = hits.hit_id.values[track_index_edges]\n",
    "\n",
    "\n",
    "print()\n",
    "print('======Track edges=====')\n",
    "print(track_edges)\n",
    "print('==================')\n",
    "'''\n",
    "track_features = {}\n",
    "\n",
    "for track_feature in set(['particle_id', 'pt', 'radius', 'nhits']).intersection(set(hits.columns)):\n",
    "    track_features[track_feature] = hits[track_feature].values[track_index_edges[0]]\n",
    "\n",
    "print()\n",
    "print('=====Track features======')\n",
    "print(track_features)\n",
    "print('===================')\n",
    "\n",
    "'''\n",
    "track_edges, track_features, hits = remap_edges(track_edges, track_features, hits)\n",
    "\n",
    "print()\n",
    "print('=====Track edges (remapped)=====')\n",
    "print(track_edges)\n",
    "print('=======================')\n",
    "'''\n"
   ]
  },
  {
   "cell_type": "code",
   "execution_count": 19,
   "metadata": {},
   "outputs": [
    {
     "data": {
      "image/png": "[encoded data removed]",
      "text/plain": [
       "<Figure size 640x480 with 1 Axes>"
      ]
     },
     "metadata": {},
     "output_type": "display_data"
    },
    {
     "name": "stdout",
     "output_type": "stream",
     "text": [
      "Number of nodes: 4\n",
      "Number of edges: 3\n",
      "Average node degree: 0.75\n",
      "Has isolated nodes: False\n",
      "Has self-loops: False\n",
      "Is undirected: False\n",
      "Edges: [[2 0 1]\n",
      " [0 1 3]]\n"
     ]
    }
   ],
   "source": [
    "from torch_geometric import utils\n",
    "import networkx as nx\n",
    "graph = Data()\n",
    "\n",
    "#Create feature_matrix: shape(num_nodes, num_node_features)\n",
    "feature_matrix = torch.from_numpy(hits[['hit_id', 'x', 'y', 'z']].values)\n",
    "edge_index = torch.from_numpy(track_index_edges)\n",
    "graph_features = torch.from_numpy(hits[['particle_id', 'pt', 'radius', 'nhits']].values)\n",
    "\n",
    "graph.x = feature_matrix\n",
    "graph.edge_index = edge_index\n",
    "graph.y = graph_features\n",
    "\n",
    "def visualize_mu3e_graph(graph, hits):\n",
    "    g = utils.to_networkx(graph, to_undirected=True)\n",
    "    pos = hits[['x', 'y']].T.to_dict()\n",
    "\n",
    "    pos = {node_num: np.array([value['x'], value['y']]) for node_num, value in pos.items()}\n",
    "    \n",
    "    plt.axes().set_aspect('equal')\n",
    "    plt.scatter(x=0,y=0, color='red')\n",
    "    plt.xlim(-100,100)\n",
    "    plt.ylim(-100,100)\n",
    "    nx.draw_networkx(g, pos=pos, node_size=300, with_labels=True, edge_color=\"r\", alpha=0.5)\n",
    "\n",
    "    plt.grid()\n",
    "    plt.show()\n",
    "\n",
    "    print(f'Number of nodes: {graph.num_nodes}')\n",
    "    print(f'Number of edges: {graph.num_edges}')\n",
    "    print(f'Average node degree: {graph.num_edges / graph.num_nodes:.2f}') \n",
    "    print(f'Has isolated nodes: {graph.has_isolated_nodes()}')\n",
    "    print(f'Has self-loops: {graph.has_self_loops()}')\n",
    "    print(f'Is undirected: {graph.is_undirected()}')\n",
    "    print('Edges:',track_index_edges)\n",
    "\n",
    "visualize_mu3e_graph(graph, hits)"
   ]
  },
  {
   "cell_type": "code",
   "execution_count": 18,
   "metadata": {},
   "outputs": [
    {
     "name": "stdout",
     "output_type": "stream",
     "text": [
      "Visualization \n"
     ]
    },
    {
     "data": {
      "image/png": "[encoded data removed]",
      "text/plain": [
       "<Figure size 640x480 with 1 Axes>"
      ]
     },
     "metadata": {},
     "output_type": "display_data"
    },
    {
     "name": "stdout",
     "output_type": "stream",
     "text": [
      "Number of nodes: 4\n",
      "Number of edges: 3\n",
      "Average node degree: 0.75\n",
      "Has isolated nodes: False\n",
      "Has self-loops: False\n",
      "Is undirected: False\n",
      "Edges: [[2 0 1]\n",
      " [0 1 3]]\n"
     ]
    }
   ],
   "source": [
    "dir = '/mnt/data1/karres/cosmics_test/feature_store_cosmic/'\n",
    "data = torch.load(dir+'trainset/graphs/event000013032-graph.pyg')\n",
    "raw_hits = pd.read_csv(dir+'trainset/csv/event000013032-truth.csv')\n",
    "print('Visualization ')\n",
    "visualize_mu3e_graph(data, raw_hits)\n",
    "#Graph created without ladder id -> too many edges"
   ]
  },
  {
   "cell_type": "code",
   "execution_count": 16,
   "metadata": {},
   "outputs": [
    {
     "name": "stdout",
     "output_type": "stream",
     "text": [
      "   index  data1  data2\n",
      "0      3      1      2\n",
      "1      6      1      5\n",
      "2      0      3     45\n",
      "3      2      5      8\n",
      "4      4      5     31\n",
      "5      5      7      8\n",
      "6      1     12      2\n"
     ]
    }
   ],
   "source": [
    "data = {\n",
    "    'data1': [3,12,5,1,5,7,1],\n",
    "    'data2': [45,2,8,2,31,8,5]\n",
    "}\n",
    "\n",
    "dataframe = pd.DataFrame(data)\n",
    "\n",
    "dataframe = dataframe.sort_values(\"data1\").reset_index(drop=False)\n",
    "print(dataframe)"
   ]
  },
  {
   "cell_type": "code",
   "execution_count": 17,
   "metadata": {},
   "outputs": [
    {
     "data": {
      "image/png": "[encoded data removed]",
      "text/plain": [
       "<Figure size 640x480 with 1 Axes>"
      ]
     },
     "metadata": {},
     "output_type": "display_data"
    },
    {
     "name": "stdout",
     "output_type": "stream",
     "text": [
      "Event with most hits: 1208\n",
      "Event with least hits: 18519\n",
      "========================================================================\n"
     ]
    },
    {
     "data": {
      "image/png": "[encoded data removed]",
      "text/plain": [
       "<Figure size 640x480 with 1 Axes>"
      ]
     },
     "metadata": {},
     "output_type": "display_data"
    },
    {
     "name": "stdout",
     "output_type": "stream",
     "text": [
      "Event with most hits: 13584\n",
      "Event with least hits: 14658\n"
     ]
    }
   ],
   "source": [
    "import matplotlib.pyplot as plt \n",
    "\n",
    "def event_histogram(dataframe):\n",
    "    event_count = dataframe['event'].value_counts()\n",
    "\n",
    "    plt.hist(event_count.tolist(), bins=40)\n",
    "    plt.ylabel('# of hits per event')\n",
    "    plt.yscale('log')\n",
    "    plt.title('Distribution of the number of hits per event')\n",
    "\n",
    "    # Calculate statistics\n",
    "    mean = np.mean(event_count)\n",
    "    std = np.std(event_count)\n",
    "    min_val = np.min(event_count)\n",
    "    max_val = np.max(event_count)\n",
    "\n",
    "    # Create legend\n",
    "    legend_text = f\"Mean: {mean:.2f}\\nStd: {std:.2f}\\nMin: {min_val}\\nMax: {max_val}\"\n",
    "    max_edges = max_val ** 2\n",
    "    legend_text += f\"\\nMax Edges: {round(max_edges/1000,1)}k\"\n",
    "    plt.legend([legend_text])\n",
    "\n",
    "    plt.show()\n",
    "\n",
    "dir1 = '/mnt/data1/karres/cosmics_test/cosmics_data/cosmic_f1.csv'\n",
    "dir2 = '/mnt/data1/karres/cosmics_test/cosmics_data/cosmic_michel_f2.csv'\n",
    "\n",
    "cosmic = pd.read_csv(dir1)\n",
    "michel = pd.read_csv(dir2)\n",
    "\n",
    "event_histogram(cosmic)\n",
    "print('Event with most hits:', cosmic['event'].value_counts().idxmax())\n",
    "print('Event with least hits:', cosmic['event'].value_counts().idxmin())\n",
    "print('========================================================================')\n",
    "event_histogram(michel)\n",
    "print('Event with most hits:', michel['event'].value_counts().idxmax())\n",
    "print('Event with least hits:', michel['event'].value_counts().idxmin())\n"
   ]
  }
 ],
 "metadata": {
  "kernelspec": {
   "display_name": "cosmicgnn",
   "language": "python",
   "name": "python3"
  },
  "language_info": {
   "codemirror_mode": {
    "name": "ipython",
    "version": 3
   },
   "file_extension": ".py",
   "mimetype": "text/x-python",
   "name": "python",
   "nbconvert_exporter": "python",
   "pygments_lexer": "ipython3",
   "version": "3.10.13"
  }
 },
 "nbformat": 4,
 "nbformat_minor": 2
}
